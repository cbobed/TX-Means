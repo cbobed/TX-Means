{
 "cells": [
  {
   "cell_type": "markdown",
   "id": "f4bbb1fe",
   "metadata": {},
   "source": [
    "# TXMeans by Riccardo Guidotti\n",
    "**Notebook by Edoardo Gabrielli**"
   ]
  },
  {
   "cell_type": "markdown",
   "id": "1202456f",
   "metadata": {
    "toc": true
   },
   "source": [
    "<h1>Table of Contents<span class=\"tocSkip\"></span></h1>\n",
    "<div class=\"toc\"><ul class=\"toc-item\"><li><span><a href=\"#Setting-Python-Path\" data-toc-modified-id=\"Setting-Python-Path-1\"><span class=\"toc-item-num\">1&nbsp;&nbsp;</span>Setting Python Path</a></span></li><li><span><a href=\"#Import-Packages\" data-toc-modified-id=\"Import-Packages-2\"><span class=\"toc-item-num\">2&nbsp;&nbsp;</span>Import Packages</a></span><ul class=\"toc-item\"><li><span><a href=\"#Internal-Packages\" data-toc-modified-id=\"Internal-Packages-2.1\"><span class=\"toc-item-num\">2.1&nbsp;&nbsp;</span>Internal Packages</a></span></li><li><span><a href=\"#Other-Packages\" data-toc-modified-id=\"Other-Packages-2.2\"><span class=\"toc-item-num\">2.2&nbsp;&nbsp;</span>Other Packages</a></span></li></ul></li><li><span><a href=\"#Visualize-Data\" data-toc-modified-id=\"Visualize-Data-3\"><span class=\"toc-item-num\">3&nbsp;&nbsp;</span>Visualize Data</a></span></li><li><span><a href=\"#Application-of-algorithm\" data-toc-modified-id=\"Application-of-algorithm-4\"><span class=\"toc-item-num\">4&nbsp;&nbsp;</span>Application of algorithm</a></span></li></ul></div>"
   ]
  },
  {
   "cell_type": "markdown",
   "id": "c4a4fd9a",
   "metadata": {},
   "source": [
    "## Setting Python Path"
   ]
  },
  {
   "cell_type": "code",
   "execution_count": 1,
   "id": "63c0188e",
   "metadata": {},
   "outputs": [
    {
     "name": "stdout",
     "output_type": "stream",
     "text": [
      "My Home is: /home/edo\n",
      "I cloned in: /home/edo/Università/2DM/Esercitazioni/\n"
     ]
    }
   ],
   "source": [
    "import os, sys, importlib\n",
    "from os.path import expanduser\n",
    "from pathlib import Path\n",
    "\n",
    "# TO DO: Better way to add to PythonPath the package.\n",
    "home = str(Path.home())\n",
    "\n",
    "## MODIFY HERE! ##\n",
    "# This need to point on the folder where you clone the repo (respect to the home...)\n",
    "Folder_Cloned_In = '/Università/2DM/Esercitazioni/' # Change here..\n",
    "##################\n",
    "\n",
    "# Full dir name\n",
    "path_to_lib = home + Folder_Cloned_In\n",
    "\n",
    "if os.path.isdir(path_to_lib + 'TXMeans'):\n",
    "    print(f'My Home is: {home}')\n",
    "    print(f'I cloned in: {path_to_lib}')\n",
    "    # Add dirs to Python Path \n",
    "    sys.path.insert(0, path_to_lib + 'TXMeans/code')\n",
    "    sys.path.insert(0, path_to_lib + 'TXMeans/code/algorithms')\n",
    "else:\n",
    "    print(\"Can't find Directory.\")\n",
    "    print('For example: you are in')\n",
    "    print(str(os.getcwd()))"
   ]
  },
  {
   "cell_type": "markdown",
   "id": "52d94212",
   "metadata": {},
   "source": [
    "## Import Packages"
   ]
  },
  {
   "cell_type": "markdown",
   "id": "4292c05a",
   "metadata": {},
   "source": [
    "### Internal Packages"
   ]
  },
  {
   "cell_type": "code",
   "execution_count": 2,
   "id": "f1e8544c",
   "metadata": {},
   "outputs": [],
   "source": [
    "import algorithms.txmeans\n",
    "from algorithms.txmeans import TXmeans # The class (like sklearn)\n",
    "from algorithms.txmeans import remap_items, count_items, sample_size # Util functions\n",
    "from algorithms.txmeans import basket_list_to_bitarray, basket_bitarray_to_list # Converting(Reverting) to(from) bitarray\n",
    "from generators.datamanager import read_uci_data # (Convert the data in nice basket format)\n",
    "from validation.validation_measures import delta_k, purity, normalized_mutual_info_score # Measure of Validation\n",
    "from algorithms.util import jaccard_bitarray"
   ]
  },
  {
   "cell_type": "markdown",
   "id": "5bfa9597",
   "metadata": {},
   "source": [
    "### Other Packages"
   ]
  },
  {
   "cell_type": "code",
   "execution_count": 3,
   "id": "ccb52383",
   "metadata": {},
   "outputs": [],
   "source": [
    "import pandas as pd\n",
    "import numpy as np\n",
    "import IPython.display as ipd\n",
    "import datetime"
   ]
  },
  {
   "cell_type": "markdown",
   "id": "026791b4",
   "metadata": {},
   "source": [
    "## Visualize Data"
   ]
  },
  {
   "cell_type": "code",
   "execution_count": 4,
   "id": "1fd1c351",
   "metadata": {
    "scrolled": true
   },
   "outputs": [
    {
     "data": {
      "text/html": [
       "<div>\n",
       "<style scoped>\n",
       "    .dataframe tbody tr th:only-of-type {\n",
       "        vertical-align: middle;\n",
       "    }\n",
       "\n",
       "    .dataframe tbody tr th {\n",
       "        vertical-align: top;\n",
       "    }\n",
       "\n",
       "    .dataframe thead th {\n",
       "        text-align: right;\n",
       "    }\n",
       "</style>\n",
       "<table border=\"1\" class=\"dataframe\">\n",
       "  <thead>\n",
       "    <tr style=\"text-align: right;\">\n",
       "      <th></th>\n",
       "      <th>class</th>\n",
       "      <th>cap-shape</th>\n",
       "      <th>cap-surface</th>\n",
       "      <th>cap-color</th>\n",
       "      <th>bruises</th>\n",
       "      <th>odor</th>\n",
       "      <th>gill-attachment</th>\n",
       "      <th>gill-spacing</th>\n",
       "      <th>gill-size</th>\n",
       "      <th>gill-color</th>\n",
       "      <th>...</th>\n",
       "      <th>stalk-surface-below-ring</th>\n",
       "      <th>stalk-color-above-ring</th>\n",
       "      <th>stalk-color-below-ring</th>\n",
       "      <th>veil-type</th>\n",
       "      <th>veil-color</th>\n",
       "      <th>ring-number</th>\n",
       "      <th>ring-type</th>\n",
       "      <th>spore-print-color</th>\n",
       "      <th>population</th>\n",
       "      <th>habitat</th>\n",
       "    </tr>\n",
       "  </thead>\n",
       "  <tbody>\n",
       "    <tr>\n",
       "      <th>0</th>\n",
       "      <td>p</td>\n",
       "      <td>x</td>\n",
       "      <td>s</td>\n",
       "      <td>n</td>\n",
       "      <td>t</td>\n",
       "      <td>p</td>\n",
       "      <td>f</td>\n",
       "      <td>c</td>\n",
       "      <td>n</td>\n",
       "      <td>k</td>\n",
       "      <td>...</td>\n",
       "      <td>s</td>\n",
       "      <td>w</td>\n",
       "      <td>w</td>\n",
       "      <td>p</td>\n",
       "      <td>w</td>\n",
       "      <td>o</td>\n",
       "      <td>p</td>\n",
       "      <td>k</td>\n",
       "      <td>s</td>\n",
       "      <td>u</td>\n",
       "    </tr>\n",
       "    <tr>\n",
       "      <th>1</th>\n",
       "      <td>e</td>\n",
       "      <td>x</td>\n",
       "      <td>s</td>\n",
       "      <td>y</td>\n",
       "      <td>t</td>\n",
       "      <td>a</td>\n",
       "      <td>f</td>\n",
       "      <td>c</td>\n",
       "      <td>b</td>\n",
       "      <td>k</td>\n",
       "      <td>...</td>\n",
       "      <td>s</td>\n",
       "      <td>w</td>\n",
       "      <td>w</td>\n",
       "      <td>p</td>\n",
       "      <td>w</td>\n",
       "      <td>o</td>\n",
       "      <td>p</td>\n",
       "      <td>n</td>\n",
       "      <td>n</td>\n",
       "      <td>g</td>\n",
       "    </tr>\n",
       "    <tr>\n",
       "      <th>2</th>\n",
       "      <td>e</td>\n",
       "      <td>b</td>\n",
       "      <td>s</td>\n",
       "      <td>w</td>\n",
       "      <td>t</td>\n",
       "      <td>l</td>\n",
       "      <td>f</td>\n",
       "      <td>c</td>\n",
       "      <td>b</td>\n",
       "      <td>n</td>\n",
       "      <td>...</td>\n",
       "      <td>s</td>\n",
       "      <td>w</td>\n",
       "      <td>w</td>\n",
       "      <td>p</td>\n",
       "      <td>w</td>\n",
       "      <td>o</td>\n",
       "      <td>p</td>\n",
       "      <td>n</td>\n",
       "      <td>n</td>\n",
       "      <td>m</td>\n",
       "    </tr>\n",
       "  </tbody>\n",
       "</table>\n",
       "<p>3 rows × 23 columns</p>\n",
       "</div>"
      ],
      "text/plain": [
       "  class cap-shape cap-surface cap-color bruises odor gill-attachment  \\\n",
       "0     p         x           s         n       t    p               f   \n",
       "1     e         x           s         y       t    a               f   \n",
       "2     e         b           s         w       t    l               f   \n",
       "\n",
       "  gill-spacing gill-size gill-color  ... stalk-surface-below-ring  \\\n",
       "0            c         n          k  ...                        s   \n",
       "1            c         b          k  ...                        s   \n",
       "2            c         b          n  ...                        s   \n",
       "\n",
       "  stalk-color-above-ring stalk-color-below-ring veil-type veil-color  \\\n",
       "0                      w                      w         p          w   \n",
       "1                      w                      w         p          w   \n",
       "2                      w                      w         p          w   \n",
       "\n",
       "  ring-number ring-type spore-print-color population habitat  \n",
       "0           o         p                 k          s       u  \n",
       "1           o         p                 n          n       g  \n",
       "2           o         p                 n          n       m  \n",
       "\n",
       "[3 rows x 23 columns]"
      ]
     },
     "metadata": {},
     "output_type": "display_data"
    }
   ],
   "source": [
    "mushrooms = pd.read_csv(path_to_lib + 'TXMeans/dataset/mushrooms.csv')\n",
    "ipd.display(mushrooms.head(3))"
   ]
  },
  {
   "cell_type": "markdown",
   "id": "163cb001",
   "metadata": {},
   "source": [
    "## Application of algorithm"
   ]
  },
  {
   "cell_type": "code",
   "execution_count": 5,
   "id": "73cdc4db",
   "metadata": {},
   "outputs": [
    {
     "name": "stdout",
     "output_type": "stream",
     "text": [
      "mushrooms.csv 8124\n",
      "delta_k 5\n",
      "normalized_mutual_info_score 0.3214890407167497\n",
      "purity 0.895371738060069\n",
      "running_time 0:00:00.653447\n",
      "Num of Clusters: 7\n"
     ]
    }
   ],
   "source": [
    "# We set here the dir to the data (you have to pass to the function that create baskets)\n",
    "path = path_to_lib + 'TXMeans/dataset/'\n",
    "dataset_name = 'mushrooms.csv'\n",
    "filename = path + dataset_name\n",
    "\n",
    "# Initialize the model\n",
    "txmeans_model = TXmeans()\n",
    "# Target Class index (if you have one, otherwise you need to put here an index useless for the clustering)\n",
    "class_index = 0\n",
    "\n",
    "# Skip Dataset columns if you want\n",
    "skipcolumnsindex = set()\n",
    "\n",
    "# return ([baskets], maps to target index) and maps of every single value in the dataset.\n",
    "baskets_real_labels, maps = read_uci_data(filename, class_index=class_index, skipcolumnsindex=skipcolumnsindex)\n",
    "\n",
    "print( dataset_name, len(baskets_real_labels))\n",
    "\n",
    "# Save baskets and the real labels \n",
    "baskets_list = list()\n",
    "real_labels = list()\n",
    "count = 0\n",
    "for basket, label in baskets_real_labels:\n",
    "    baskets_list.append(basket)\n",
    "    real_labels.append(label)\n",
    "    count += 1\n",
    "    \n",
    "# Speeding up the Jaccard distance: \n",
    "baskets_list, map_newitem_item, map_item_newitem = remap_items(baskets_list)\n",
    "baskets_list = basket_list_to_bitarray(baskets_list, len(map_newitem_item))\n",
    "\n",
    "# Get the number of baskets (equal to number of data) \n",
    "nbaskets = len(baskets_list)\n",
    "\n",
    "# Get the number of different item\n",
    "nitems = count_items(baskets_list)\n",
    "\n",
    "start_time = datetime.datetime.now()\n",
    "\n",
    "# Get subsamples of the dataset (in order to speed up)\n",
    "nsample = sample_size(nbaskets, 0.05, conf_level=0.99, prob=0.5)\n",
    "\n",
    "# Fit the model\n",
    "txmeans_model.fit(baskets_list, nbaskets, nitems, random_sample=nsample)\n",
    "\n",
    "end_time = datetime.datetime.now()\n",
    "running_time = end_time - start_time\n",
    "\n",
    "# Get the label and the clusters \n",
    "res = txmeans_model.clustering\n",
    "\n",
    "# Number of iteration of the model for the convergence\n",
    "iter_count = txmeans_model.iter_count\n",
    "\n",
    "# Initialize empty predicted labels\n",
    "pred_labels = [0] * len(real_labels)\n",
    "\n",
    "# Initialize empty cluster list\n",
    "baskets_clusters = list()\n",
    "for label, cluster in enumerate(res):\n",
    "    # Revert the bitarray transform.\n",
    "    cluster_list = basket_bitarray_to_list(cluster['cluster']).values()\n",
    "    for bid, bitarr in cluster['cluster'].items():\n",
    "        # Labels of every data point\n",
    "        pred_labels[bid] = label\n",
    "        # Clusters\n",
    "        baskets_clusters.append(cluster_list)\n",
    "\n",
    "# Mesure of \"goodness\" for clustering algorithm respect to the target attribute\n",
    "print('delta_k', delta_k(real_labels, pred_labels))\n",
    "print('normalized_mutual_info_score', normalized_mutual_info_score(real_labels, pred_labels))\n",
    "print('purity', purity(real_labels, pred_labels))\n",
    "print('running_time', running_time)\n",
    "\n",
    "print(f'Num of Clusters: {len(np.unique(np.array(pred_labels)))}')"
   ]
  },
  {
   "cell_type": "markdown",
   "id": "7a2ec09f",
   "metadata": {},
   "source": [
    "You cha also get the cluster's medioids:"
   ]
  },
  {
   "cell_type": "code",
   "execution_count": 6,
   "id": "011913bb",
   "metadata": {},
   "outputs": [
    {
     "data": {
      "text/plain": [
       "[4370, 3538, 2205, 2288, 87, 145, 7044]"
      ]
     },
     "execution_count": 6,
     "metadata": {},
     "output_type": "execute_result"
    }
   ],
   "source": [
    "txmeans_model.medioids"
   ]
  }
 ],
 "metadata": {
  "kernelspec": {
   "display_name": "Python 3",
   "language": "python",
   "name": "python3"
  },
  "language_info": {
   "codemirror_mode": {
    "name": "ipython",
    "version": 3
   },
   "file_extension": ".py",
   "mimetype": "text/x-python",
   "name": "python",
   "nbconvert_exporter": "python",
   "pygments_lexer": "ipython3",
   "version": "3.8.6"
  },
  "toc": {
   "base_numbering": 1,
   "nav_menu": {},
   "number_sections": true,
   "sideBar": true,
   "skip_h1_title": true,
   "title_cell": "Table of Contents",
   "title_sidebar": "Contents",
   "toc_cell": true,
   "toc_position": {
    "height": "calc(100% - 180px)",
    "left": "10px",
    "top": "150px",
    "width": "171.133px"
   },
   "toc_section_display": true,
   "toc_window_display": true
  }
 },
 "nbformat": 4,
 "nbformat_minor": 5
}
